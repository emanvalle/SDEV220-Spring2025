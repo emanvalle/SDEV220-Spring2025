{
 "cells": [
  {
   "cell_type": "code",
   "execution_count": 55,
   "id": "879c8014-536b-429f-91a8-065b2fe4fb0d",
   "metadata": {},
   "outputs": [
    {
     "name": "stdout",
     "output_type": "stream",
     "text": [
      "Too low\n"
     ]
    }
   ],
   "source": [
    "#4.1\n",
    "secret = 5\n",
    "guess = 2\n",
    "\n",
    "if guess == secret:\n",
    "    print('Just right')\n",
    "elif guess > secret:\n",
    "    print('Too high')\n",
    "elif guess < secret: \n",
    "    print('Too low')\n",
    "else:\n",
    "    print('Invalid')"
   ]
  },
  {
   "cell_type": "code",
   "execution_count": 25,
   "id": "a87aa37f-ee45-4720-99ca-6a89a99ac651",
   "metadata": {},
   "outputs": [
    {
     "name": "stdout",
     "output_type": "stream",
     "text": [
      "Pumpkin\n"
     ]
    }
   ],
   "source": [
    "#4.2\n",
    "small = False\n",
    "green = False\n",
    "\n",
    "if small and not green:\n",
    "    print('Cherry')\n",
    "elif small and green:\n",
    "    print('Pea')\n",
    "elif not small and green:\n",
    "    print('Watermelon')\n",
    "elif not small and not green:\n",
    "    print('Pumpkin')"
   ]
  },
  {
   "cell_type": "code",
   "execution_count": 27,
   "id": "2fef4682-277d-43a4-ac70-f4831b6c458d",
   "metadata": {},
   "outputs": [
    {
     "name": "stdout",
     "output_type": "stream",
     "text": [
      "3\n",
      "2\n",
      "1\n",
      "0\n"
     ]
    }
   ],
   "source": [
    "#6.1\n",
    "nums = [3, 2, 1, 0]\n",
    "\n",
    "for number in nums:\n",
    "    print(number)"
   ]
  },
  {
   "cell_type": "code",
   "execution_count": 51,
   "id": "974bed54-4b44-4b8d-a566-60e2090bdf0b",
   "metadata": {},
   "outputs": [
    {
     "name": "stdout",
     "output_type": "stream",
     "text": [
      "Too low\n",
      "Too low\n",
      "Too low\n",
      "Too low\n",
      "Too low\n",
      "Too low\n",
      "Found it!\n"
     ]
    }
   ],
   "source": [
    "#6.2\n",
    "guess_me = 7\n",
    "number = 1\n",
    "\n",
    "while number <= guess_me:\n",
    "    if number < guess_me:\n",
    "        print('Too low')\n",
    "    elif number == guess_me:\n",
    "        print('Found it!')\n",
    "        break\n",
    "    elif number > guess_me:\n",
    "        print('Oops')\n",
    "        break\n",
    "    number += 1"
   ]
  },
  {
   "cell_type": "code",
   "execution_count": 53,
   "id": "0a590980-80c3-4305-8643-839da17f2488",
   "metadata": {},
   "outputs": [
    {
     "name": "stdout",
     "output_type": "stream",
     "text": [
      "Too Low\n",
      "Too Low\n",
      "Too Low\n",
      "Too Low\n",
      "Too Low\n",
      "Found it!\n"
     ]
    }
   ],
   "source": [
    "#6.3\n",
    "guess_me = 5\n",
    "\n",
    "for number in range(10):\n",
    "    if number < guess_me:\n",
    "        print('Too Low')\n",
    "    elif number == guess_me:\n",
    "        print('Found it!')\n",
    "        break\n",
    "    elif number > guess_me:\n",
    "        print('Oops')\n",
    "        break"
   ]
  }
 ],
 "metadata": {
  "kernelspec": {
   "display_name": "Python [conda env:base] *",
   "language": "python",
   "name": "conda-base-py"
  },
  "language_info": {
   "codemirror_mode": {
    "name": "ipython",
    "version": 3
   },
   "file_extension": ".py",
   "mimetype": "text/x-python",
   "name": "python",
   "nbconvert_exporter": "python",
   "pygments_lexer": "ipython3",
   "version": "3.12.7"
  }
 },
 "nbformat": 4,
 "nbformat_minor": 5
}
