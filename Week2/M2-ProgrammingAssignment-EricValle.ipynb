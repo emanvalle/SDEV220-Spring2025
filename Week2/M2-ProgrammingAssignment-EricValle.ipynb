{
 "cells": [
  {
   "cell_type": "code",
   "execution_count": 5,
   "id": "879c8014-536b-429f-91a8-065b2fe4fb0d",
   "metadata": {},
   "outputs": [
    {
     "name": "stdout",
     "output_type": "stream",
     "text": [
      "Too low\n"
     ]
    }
   ],
   "source": [
    "secret = 5\n",
    "guess = 2\n",
    "\n",
    "if guess == secret:\n",
    "    print('Just right')\n",
    "elif guess > secret:\n",
    "    print('Too high')\n",
    "elif guess < secret: \n",
    "    print('Too low')\n",
    "else:\n",
    "    print('Invalid')"
   ]
  }
 ],
 "metadata": {
  "kernelspec": {
   "display_name": "Python [conda env:base] *",
   "language": "python",
   "name": "conda-base-py"
  },
  "language_info": {
   "codemirror_mode": {
    "name": "ipython",
    "version": 3
   },
   "file_extension": ".py",
   "mimetype": "text/x-python",
   "name": "python",
   "nbconvert_exporter": "python",
   "pygments_lexer": "ipython3",
   "version": "3.12.7"
  }
 },
 "nbformat": 4,
 "nbformat_minor": 5
}
